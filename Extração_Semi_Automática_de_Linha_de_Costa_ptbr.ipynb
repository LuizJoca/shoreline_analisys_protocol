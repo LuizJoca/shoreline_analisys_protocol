{
  "nbformat": 4,
  "nbformat_minor": 0,
  "metadata": {
    "colab": {
      "name": "Extração Semi-Automática de Linha de Costa.ipynb",
      "provenance": [],
      "authorship_tag": "ABX9TyMK3y6+ojU/0ovm9McD1WNz",
      "include_colab_link": true
    },
    "kernelspec": {
      "name": "python3",
      "display_name": "Python 3"
    },
    "language_info": {
      "name": "python"
    }
  },
  "cells": [
    {
      "cell_type": "markdown",
      "metadata": {
        "id": "view-in-github",
        "colab_type": "text"
      },
      "source": [
        "<a href=\"https://colab.research.google.com/github/LuizJoca/shoreline_analisys_protocol/blob/main/Extra%C3%A7%C3%A3o_Semi_Autom%C3%A1tica_de_Linha_de_Costa_ptbr.ipynb\" target=\"_parent\"><img src=\"https://colab.research.google.com/assets/colab-badge.svg\" alt=\"Open In Colab\"/></a>"
      ]
    },
    {
      "cell_type": "markdown",
      "metadata": {
        "id": "A3bd1gn8efIK"
      },
      "source": [
        "# <font color = khaki>**Extração Semi-Automática de Linha de Costa**</font>"
      ]
    },
    {
      "cell_type": "markdown",
      "metadata": {
        "id": "gAg-TsRUe8OG"
      },
      "source": [
        "## <font color = khaki>**Preparação de Ambiente**</font>"
      ]
    },
    {
      "cell_type": "markdown",
      "metadata": {
        "id": "Z1z-p6rygI-U"
      },
      "source": [
        "### <font color = darkorange>Importando as bibliotecas</font>"
      ]
    },
    {
      "cell_type": "code",
      "metadata": {
        "id": "ntOCj3EceY9u"
      },
      "source": [
        "# Importação das Bibliotecas\n",
        "\n",
        "import cv2\n",
        "import numpy as np\n",
        "\n",
        "from osgeo import osr\n",
        "from osgeo import gdal\n",
        "from osgeo import gdal_array\n",
        "\n",
        "from skimage import io\n",
        "from skimage import img_as_ubyte\n",
        "from skimage.filters import median\n",
        "from skimage.morphology import disk\n",
        "\n",
        "from matplotlib import pyplot as plt"
      ],
      "execution_count": 1,
      "outputs": []
    },
    {
      "cell_type": "markdown",
      "metadata": {
        "id": "RJCi5Vk9kqDZ"
      },
      "source": [
        "### <font color = darkorange>Importação das Imagens Pré-Tratadas</font>"
      ]
    },
    {
      "cell_type": "code",
      "metadata": {
        "id": "UJvD7puLf8mo"
      },
      "source": [
        "img_flaash ="
      ],
      "execution_count": null,
      "outputs": []
    },
    {
      "cell_type": "code",
      "metadata": {
        "id": "7czfgauel_qs"
      },
      "source": [
        "ds = gdal.Open(img_flaash)\n",
        "gt = ds.GetGeoTransform()\n",
        "proj = dj.GetProjection()"
      ],
      "execution_count": null,
      "outputs": []
    },
    {
      "cell_type": "code",
      "metadata": {
        "id": "S-o1veb5mUH4"
      },
      "source": [
        "mndwi =  ds.GetRasterBand(1)"
      ],
      "execution_count": null,
      "outputs": []
    },
    {
      "cell_type": "code",
      "metadata": {
        "id": "qIspwt2WmcVC"
      },
      "source": [
        "mndwi_array = mndwi.ReadAsArray()"
      ],
      "execution_count": null,
      "outputs": []
    },
    {
      "cell_type": "code",
      "metadata": {
        "id": "JxBQQRPHmhdI"
      },
      "source": [
        "plt.figure()\n",
        "plt.imshow(mndwi_array)\n",
        "plt.colorbar()"
      ],
      "execution_count": null,
      "outputs": []
    },
    {
      "cell_type": "markdown",
      "metadata": {
        "id": "HUrUaN6GmsHn"
      },
      "source": [
        "## <font color = khaki>**Aplicação do Filtro de Mediana**</font>"
      ]
    },
    {
      "cell_type": "code",
      "metadata": {
        "id": "Fy4zjPNxm025"
      },
      "source": [
        "mndwi_median = median(mndwi_array, disk(3), mode = 'constant', cval = 0.0)"
      ],
      "execution_count": null,
      "outputs": []
    },
    {
      "cell_type": "code",
      "metadata": {
        "id": "gO0tZyqum9lY"
      },
      "source": [
        "plt.figure()\n",
        "plt.imshow(mndwi_median)\n",
        "plt.colorbar()"
      ],
      "execution_count": null,
      "outputs": []
    },
    {
      "cell_type": "markdown",
      "metadata": {
        "id": "rpPCDf0YnLVb"
      },
      "source": [
        "## <font color = khaki>**Conversão da Imagem para 8bit**</font>"
      ]
    },
    {
      "cell_type": "code",
      "metadata": {
        "id": "t5-i3Y_dnUL6"
      },
      "source": [
        "mndwi_8bit = img_as_ubyte(mndwi_median)"
      ],
      "execution_count": null,
      "outputs": []
    },
    {
      "cell_type": "code",
      "metadata": {
        "id": "Vz4DldZynjgM"
      },
      "source": [
        "mndwi_8bit.dtype"
      ],
      "execution_count": null,
      "outputs": []
    },
    {
      "cell_type": "markdown",
      "metadata": {
        "id": "dSlGW9nInuVi"
      },
      "source": [
        "## <font color = khaki>**Aplicação do Threshold**</font>"
      ]
    },
    {
      "cell_type": "code",
      "metadata": {
        "id": "FEVfRQ4jnlpm"
      },
      "source": [
        "ret_mndwi, th_mndwi = cv2.threshold(mndwi_8bit, 0, 255, cv2.THRESH_BINARY+cv2.THRESH_OTSU)"
      ],
      "execution_count": null,
      "outputs": []
    },
    {
      "cell_type": "code",
      "metadata": {
        "id": "qM2an-BDoI9s"
      },
      "source": [
        "plt.figure()\n",
        "plt.imshow(th_mndwi)\n",
        "plt.colorbar()"
      ],
      "execution_count": null,
      "outputs": []
    },
    {
      "cell_type": "markdown",
      "metadata": {
        "id": "yntmj8SCoTnN"
      },
      "source": [
        "## <font color = khaki>**Exportação do Arquivo Binarizado**</font>"
      ]
    },
    {
      "cell_type": "code",
      "metadata": {
        "id": "ZpcJQ9pyoWDu"
      },
      "source": [
        "driver = gdal.GetDriverByName('ENVI')\n",
        "driver.Register()\n",
        "outds = driver.Create('mndwi_threshold.dat',\n",
        "                      xsize = mndwi_threshold.shape[1],\n",
        "                      ysize = mndwi_threshold.shape[0],\n",
        "                      bands = 1,\n",
        "                      eType = gdal.GDT_Byte)\n",
        "outds.SetGeoTransform(gt)\n",
        "outds.SetProjection(proj)\n",
        "outband = outds.GetRasterBand(1)\n",
        "outband.WriteArray(mndwi_threshold)\n",
        "outband.SetNoDataValue(0)\n",
        "outband.FlushCache()\n",
        "\n",
        "outband = None\n",
        "outds = None"
      ],
      "execution_count": null,
      "outputs": []
    }
  ]
}