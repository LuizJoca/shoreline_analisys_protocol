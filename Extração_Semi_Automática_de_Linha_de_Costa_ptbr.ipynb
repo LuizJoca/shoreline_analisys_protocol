{
  "nbformat": 4,
  "nbformat_minor": 0,
  "metadata": {
    "colab": {
      "name": "Extração_Semi_Automática_de_Linha_de_Costa_ptbr.ipynb",
      "provenance": [],
      "include_colab_link": true
    },
    "kernelspec": {
      "name": "python3",
      "display_name": "Python 3"
    },
    "language_info": {
      "name": "python"
    }
  },
  "cells": [
    {
      "cell_type": "markdown",
      "metadata": {
        "id": "view-in-github",
        "colab_type": "text"
      },
      "source": [
        "<a href=\"https://colab.research.google.com/github/LuizJoca/shoreline_analisys_protocol/blob/main/Extra%C3%A7%C3%A3o_Semi_Autom%C3%A1tica_de_Linha_de_Costa_ptbr.ipynb\" target=\"_parent\"><img src=\"https://colab.research.google.com/assets/colab-badge.svg\" alt=\"Open In Colab\"/></a>"
      ]
    },
    {
      "cell_type": "markdown",
      "metadata": {
        "id": "A3bd1gn8efIK"
      },
      "source": [
        "# <font color = khaki>**Extração Semi-Automática de Linha de Costa**</font>"
      ]
    },
    {
      "cell_type": "markdown",
      "metadata": {
        "id": "MU9wlAAyA_JO"
      },
      "source": [
        "**Versão 0.1.0**\n",
        "\n",
        "**Elaborado por: Luiz Henrique Joca Leite, Granduando em Geologia pela Universidade Federal do Ceará**\n",
        "\n",
        "[Linkedin](https://www.linkedin.com/in/luiz-henrique-joca/) | [Github](https://github.com/LuizJoca)\n",
        "\n",
        "Esse *notebook* faz parte dos produtos gerados pelo projeto de trabalho de conclusão de curso **\"Ferramentas de Machine Learning Aplicadas em Prognóstico Geoambiental: Estudo de Caso da Linha de Costa do Estado do Ceará, NE Brasileiro\"**. \n",
        "\n",
        "A metodologia aplicada neste *notebook* se baseia nos trabalhos de [Sousa *et al.,* (2018)](https://www.tandfonline.com/doi/abs/10.1080/01431161.2018.1455240) e [Ghorai e Mahapatra, (2020)](https://link.springer.com/article/10.1007/s41976-019-00030-w) e tem como principal objetivo gerar um raster binarizado para extração semi-automática das linhas de costa.\n",
        "\n",
        "O código abaixo realiza as seguinte tarefas:\n",
        "*   Aplicação de um filtro de mediana sobre imagens MNDWI pré-tratadas;\n",
        "*   Simplificação do dado via converção para *8bit integer*;\n",
        "*   Binarização via *Threshold*;\n",
        "*   Exportação do raster binarizado para extração via GIS;\n",
        "\n",
        "---\n"
      ]
    },
    {
      "cell_type": "markdown",
      "metadata": {
        "id": "gAg-TsRUe8OG"
      },
      "source": [
        "## <font color = khaki>**Preparação de Ambiente**</font>"
      ]
    },
    {
      "cell_type": "markdown",
      "metadata": {
        "id": "Fh1-hZ3hH6wD"
      },
      "source": [
        "Nessa etapa são  carregadas: \n",
        "\n",
        "*   As bibliotecas e pacotes necessários para execução do código;\n",
        "*   O arquivo base que será manipulado no decorrer das etapas para binarização do raster e geração da linha de costa.\n",
        "\n",
        "---\n",
        "\n",
        "a) Caso o arquivo esteja sendo executado em Jupyter Notebook (nativo do computador):\n",
        "\n",
        "No item 'Importação das Imagens Pré-Tratadas' a variavel `img_flaash` está com atribuição vazia. Após o sinal de `=` deve-se atribuir o caminho para o arquivo a ser utilizado entre aspas simples ou aspas duplas. Caso o arquivo esteja na mesma pasta do arquivo `.ipynb` basta adicionar o nome do arquivo, também entre aspas simples ou aspas duplas.\n",
        "\n",
        "Feito isso basta executar o resto do notebook em sequência.  \n",
        "\n",
        "b) Caso o arquivo esteja sendo executado em Google Colab:\n",
        "\n",
        "O arquivo a ser utilizado precisa ser préviamente upando na aba de arquivos localizada na parte superior esquerda, ou deve estar presente em uma pasta do Google Drive linkada pelo mesmo e-mail utilizado na conta do Google Colab.\n",
        "\n",
        "Para adição de pastas no google colab é necessário adicionar uma célular de código abaixo e adicionar o seguinte trecho:\n",
        "\n",
        "      `from google.colab import drive`\n",
        "      `drive.mount('/content/drive/')`\n",
        "\n",
        "Isso permitira o link aos arquivos presentes no google drive do usuário. \n",
        "\n",
        "No item 'Importação das Imagens Pré-Tratadas' a variavel `img_flaash` está com atribuição vazia. Após o sinal de `=` deve-se atribuir o nome do arquivo, caso tenha sido upado na aba de arquivos. Já para casos no qual se tenha concedido acesso ao google drive basta copiar o caminho do arquivo a ser utilizado. Ambos os processos deve constar entre aspas simples ou aspas duplas. \n",
        "\n",
        "---\n",
        "\n",
        "**Obs¹:** Os tratamentos realizados na imagem pelo autor na elaboração do trabalho de origem deste notebook foram realizadas no *software* ENVI e consistem nos processos de **Calibração Radiométrica**, **Calibração Atmosférica FLAASH** e **elaboração do MNDWI**. Sendo assim o autor recomenda a realização dos mesmo procedimentos para aquisição de resultados mais próximos aos adquiridos na pesquisa. "
      ]
    },
    {
      "cell_type": "markdown",
      "metadata": {
        "id": "Z1z-p6rygI-U"
      },
      "source": [
        "### <font color = darkorange>Importando as bibliotecas</font>"
      ]
    },
    {
      "cell_type": "code",
      "metadata": {
        "id": "ntOCj3EceY9u"
      },
      "source": [
        "# Importação das Bibliotecas\n",
        "\n",
        "import cv2\n",
        "import numpy as np\n",
        "\n",
        "from osgeo import osr\n",
        "from osgeo import gdal\n",
        "from osgeo import gdal_array\n",
        "\n",
        "from skimage import io\n",
        "from skimage import img_as_ubyte\n",
        "from skimage.filters import median\n",
        "from skimage.morphology import disk\n",
        "\n",
        "from matplotlib import pyplot as plt"
      ],
      "execution_count": null,
      "outputs": []
    },
    {
      "cell_type": "markdown",
      "metadata": {
        "id": "RJCi5Vk9kqDZ"
      },
      "source": [
        "### <font color = darkorange>Importação das Imagens Pré-Tratadas</font>"
      ]
    },
    {
      "cell_type": "code",
      "metadata": {
        "id": "UJvD7puLf8mo"
      },
      "source": [
        "img_flaash ="
      ],
      "execution_count": null,
      "outputs": []
    },
    {
      "cell_type": "code",
      "metadata": {
        "id": "7czfgauel_qs"
      },
      "source": [
        "ds = gdal.Open(img_flaash)\n",
        "gt = ds.GetGeoTransform()\n",
        "proj = ds.GetProjection()"
      ],
      "execution_count": null,
      "outputs": []
    },
    {
      "cell_type": "code",
      "metadata": {
        "id": "S-o1veb5mUH4"
      },
      "source": [
        "mndwi =  ds.GetRasterBand(1)"
      ],
      "execution_count": null,
      "outputs": []
    },
    {
      "cell_type": "code",
      "metadata": {
        "id": "qIspwt2WmcVC"
      },
      "source": [
        "mndwi_array = mndwi.ReadAsArray()"
      ],
      "execution_count": null,
      "outputs": []
    },
    {
      "cell_type": "code",
      "metadata": {
        "id": "JxBQQRPHmhdI"
      },
      "source": [
        "plt.figure()\n",
        "plt.imshow(mndwi_array)\n",
        "plt.colorbar()"
      ],
      "execution_count": null,
      "outputs": []
    },
    {
      "cell_type": "markdown",
      "metadata": {
        "id": "HUrUaN6GmsHn"
      },
      "source": [
        "## <font color = khaki>**Aplicação do Filtro de Mediana**</font>"
      ]
    },
    {
      "cell_type": "code",
      "metadata": {
        "id": "Fy4zjPNxm025"
      },
      "source": [
        "mndwi_median = median(mndwi_array, disk(3), mode = 'constant', cval = 0.0)"
      ],
      "execution_count": null,
      "outputs": []
    },
    {
      "cell_type": "code",
      "metadata": {
        "id": "gO0tZyqum9lY"
      },
      "source": [
        "plt.figure()\n",
        "plt.imshow(mndwi_median)\n",
        "plt.colorbar()"
      ],
      "execution_count": null,
      "outputs": []
    },
    {
      "cell_type": "markdown",
      "metadata": {
        "id": "rpPCDf0YnLVb"
      },
      "source": [
        "## <font color = khaki>**Conversão da Imagem para 8bit**</font>"
      ]
    },
    {
      "cell_type": "code",
      "metadata": {
        "id": "t5-i3Y_dnUL6"
      },
      "source": [
        "mndwi_8bit = img_as_ubyte(mndwi_median)"
      ],
      "execution_count": null,
      "outputs": []
    },
    {
      "cell_type": "code",
      "metadata": {
        "id": "Vz4DldZynjgM"
      },
      "source": [
        "mndwi_8bit.dtype"
      ],
      "execution_count": null,
      "outputs": []
    },
    {
      "cell_type": "markdown",
      "metadata": {
        "id": "dSlGW9nInuVi"
      },
      "source": [
        "## <font color = khaki>**Aplicação do Threshold**</font>"
      ]
    },
    {
      "cell_type": "code",
      "metadata": {
        "id": "FEVfRQ4jnlpm"
      },
      "source": [
        "ret_mndwi, th_mndwi = cv2.threshold(mndwi_8bit, 0, 255, cv2.THRESH_BINARY+cv2.THRESH_OTSU)"
      ],
      "execution_count": null,
      "outputs": []
    },
    {
      "cell_type": "code",
      "metadata": {
        "id": "qM2an-BDoI9s"
      },
      "source": [
        "plt.figure()\n",
        "plt.imshow(th_mndwi)\n",
        "plt.colorbar()"
      ],
      "execution_count": null,
      "outputs": []
    },
    {
      "cell_type": "markdown",
      "metadata": {
        "id": "yntmj8SCoTnN"
      },
      "source": [
        "## <font color = khaki>**Exportação do Arquivo Binarizado**</font>"
      ]
    },
    {
      "cell_type": "code",
      "metadata": {
        "id": "ZpcJQ9pyoWDu"
      },
      "source": [
        "driver = gdal.GetDriverByName('ENVI')\n",
        "driver.Register()\n",
        "outds = driver.Create('mndwi_threshold.dat',\n",
        "                      xsize = th_mndwi.shape[1],\n",
        "                      ysize = th_mndwi.shape[0],\n",
        "                      bands = 1,\n",
        "                      eType = gdal.GDT_Byte)\n",
        "outds.SetGeoTransform(gt)\n",
        "outds.SetProjection(proj)\n",
        "outband = outds.GetRasterBand(1)\n",
        "outband.WriteArray(th_mndwi)\n",
        "outband.SetNoDataValue(0)\n",
        "outband.FlushCache()\n",
        "\n",
        "outband = None\n",
        "outds = None"
      ],
      "execution_count": null,
      "outputs": []
    }
  ]
}